{
 "cells": [
  {
   "cell_type": "markdown",
   "metadata": {},
   "source": [
    "### Deps"
   ]
  },
  {
   "cell_type": "code",
   "execution_count": 169,
   "metadata": {
    "vscode": {
     "languageId": "shellscript"
    }
   },
   "outputs": [
    {
     "name": "stdout",
     "output_type": "stream",
     "text": [
      "Requirement already satisfied: pandas in c:\\users\\skyla\\appdata\\roaming\\python\\python310\\site-packages (1.5.3)\n",
      "Requirement already satisfied: python-dateutil>=2.8.1 in c:\\users\\skyla\\appdata\\roaming\\python\\python310\\site-packages (from pandas) (2.8.2)\n",
      "Requirement already satisfied: pytz>=2020.1 in c:\\users\\skyla\\appdata\\roaming\\python\\python310\\site-packages (from pandas) (2022.7.1)\n",
      "Requirement already satisfied: numpy>=1.21.0 in c:\\users\\skyla\\appdata\\roaming\\python\\python310\\site-packages (from pandas) (1.24.2)\n",
      "Requirement already satisfied: six>=1.5 in c:\\users\\skyla\\appdata\\roaming\\python\\python310\\site-packages (from python-dateutil>=2.8.1->pandas) (1.16.0)\n",
      "Collecting python-docx\n",
      "  Downloading python_docx-1.0.0-py3-none-any.whl (236 kB)\n",
      "     -------------------------------------- 236.1/236.1 kB 1.3 MB/s eta 0:00:00\n",
      "Collecting lxml>=3.1.0\n",
      "  Downloading lxml-4.9.3-cp310-cp310-win_amd64.whl (3.8 MB)\n",
      "     ---------------------------------------- 3.8/3.8 MB 804.9 kB/s eta 0:00:00\n",
      "Collecting typing-extensions\n",
      "  Using cached typing_extensions-4.8.0-py3-none-any.whl (31 kB)\n",
      "Installing collected packages: typing-extensions, lxml, python-docx\n",
      "Successfully installed lxml-4.9.3 python-docx-1.0.0 typing-extensions-4.8.0\n"
     ]
    }
   ],
   "source": [
    "!pip install pandas\n",
    "!pip install python-docx"
   ]
  },
  {
   "cell_type": "code",
   "execution_count": 171,
   "metadata": {},
   "outputs": [],
   "source": [
    "import re\n",
    "\n",
    "import pandas as pd\n",
    "from docx import Document"
   ]
  },
  {
   "cell_type": "markdown",
   "metadata": {},
   "source": [
    "# Задание 1"
   ]
  },
  {
   "cell_type": "markdown",
   "metadata": {},
   "source": [
    "### Load Data"
   ]
  },
  {
   "cell_type": "code",
   "execution_count": 3,
   "metadata": {},
   "outputs": [
    {
     "data": {
      "text/html": [
       "<div>\n",
       "<style scoped>\n",
       "    .dataframe tbody tr th:only-of-type {\n",
       "        vertical-align: middle;\n",
       "    }\n",
       "\n",
       "    .dataframe tbody tr th {\n",
       "        vertical-align: top;\n",
       "    }\n",
       "\n",
       "    .dataframe thead th {\n",
       "        text-align: right;\n",
       "    }\n",
       "</style>\n",
       "<table border=\"1\" class=\"dataframe\">\n",
       "  <thead>\n",
       "    <tr style=\"text-align: right;\">\n",
       "      <th></th>\n",
       "      <th>id</th>\n",
       "      <th>author_name</th>\n",
       "      <th>title</th>\n",
       "      <th>issn</th>\n",
       "      <th>journal</th>\n",
       "      <th>year</th>\n",
       "      <th>address</th>\n",
       "    </tr>\n",
       "  </thead>\n",
       "  <tbody>\n",
       "    <tr>\n",
       "      <th>0</th>\n",
       "      <td>WOS:000209908400008</td>\n",
       "      <td>Tamosiunaite, Aurelija</td>\n",
       "      <td>Defining 'Lithuanian' Orthographic debates at ...</td>\n",
       "      <td>1387-6732</td>\n",
       "      <td>WRITTEN LANGUAGE AND LITERACY</td>\n",
       "      <td>2015</td>\n",
       "      <td>Vytautas Magnus Univ, Fac Humanities, Dept Lit...</td>\n",
       "    </tr>\n",
       "    <tr>\n",
       "      <th>1</th>\n",
       "      <td>WOS:000209919200006</td>\n",
       "      <td>Zhang, Hui Andy</td>\n",
       "      <td>RECOGNITION THROUGH REINVENTION: THE MYTH OF C...</td>\n",
       "      <td>2013-3294</td>\n",
       "      <td>452 F-REVISTA DE TEORIA DE LA LITERATURA Y LIT...</td>\n",
       "      <td>2015</td>\n",
       "      <td>Northwestern Univ, Evanston, IL 60208 USA.</td>\n",
       "    </tr>\n",
       "    <tr>\n",
       "      <th>2</th>\n",
       "      <td>WOS:000210161400001</td>\n",
       "      <td>Bortnik, Boris</td>\n",
       "      <td>Interdisciplinary project-based learning: tech...</td>\n",
       "      <td>2156-7069</td>\n",
       "      <td>RESEARCH IN LEARNING TECHNOLOGY</td>\n",
       "      <td>2015</td>\n",
       "      <td>Ural State Univ Econ, Ekaterinburg, Russia.</td>\n",
       "    </tr>\n",
       "    <tr>\n",
       "      <th>3</th>\n",
       "      <td>WOS:000210161400001</td>\n",
       "      <td>Mironova, Ludmila</td>\n",
       "      <td>Interdisciplinary project-based learning: tech...</td>\n",
       "      <td>2156-7069</td>\n",
       "      <td>RESEARCH IN LEARNING TECHNOLOGY</td>\n",
       "      <td>2015</td>\n",
       "      <td>Ural State Univ Econ, Ekaterinburg, Russia.</td>\n",
       "    </tr>\n",
       "    <tr>\n",
       "      <th>4</th>\n",
       "      <td>WOS:000210161400001</td>\n",
       "      <td>Podshivalova, Ekaterina</td>\n",
       "      <td>Interdisciplinary project-based learning: tech...</td>\n",
       "      <td>2156-7069</td>\n",
       "      <td>RESEARCH IN LEARNING TECHNOLOGY</td>\n",
       "      <td>2015</td>\n",
       "      <td>Ural State Univ Econ, Ekaterinburg, Russia.</td>\n",
       "    </tr>\n",
       "    <tr>\n",
       "      <th>...</th>\n",
       "      <td>...</td>\n",
       "      <td>...</td>\n",
       "      <td>...</td>\n",
       "      <td>...</td>\n",
       "      <td>...</td>\n",
       "      <td>...</td>\n",
       "      <td>...</td>\n",
       "    </tr>\n",
       "    <tr>\n",
       "      <th>21783</th>\n",
       "      <td>WOS:000589510700005</td>\n",
       "      <td>Jaques, Susan</td>\n",
       "      <td>\"This Heavy Thing\": Catherine the Great's Coro...</td>\n",
       "      <td>2051-1817</td>\n",
       "      <td>LUXURY-HISTORY CULTURE CONSUMPTION</td>\n",
       "      <td>2019</td>\n",
       "      <td>Stanford Univ, Stanford, CA 94305 USA.</td>\n",
       "    </tr>\n",
       "    <tr>\n",
       "      <th>21784</th>\n",
       "      <td>WOS:000589783500009</td>\n",
       "      <td>Mayofis, M.</td>\n",
       "      <td>FATHERS-HEROES AND DISCIPLINED SONS: CULTURAL ...</td>\n",
       "      <td>2219-3111</td>\n",
       "      <td>VESTNIK PERMSKOGO UNIVERSITETA-ISTORIYA-PERM U...</td>\n",
       "      <td>2019</td>\n",
       "      <td>Natl Res Univ Higher Sch Econ, Myasnitskaya St...</td>\n",
       "    </tr>\n",
       "    <tr>\n",
       "      <th>21785</th>\n",
       "      <td>WOS:000589783500014</td>\n",
       "      <td>Janis-Isokangas, I.</td>\n",
       "      <td>FROM NATIONAL TO INTERNATIONAL - KONRAD ZILLIA...</td>\n",
       "      <td>2219-3111</td>\n",
       "      <td>VESTNIK PERMSKOGO UNIVERSITETA-ISTORIYA-PERM U...</td>\n",
       "      <td>2019</td>\n",
       "      <td>Univ Helsinki, Aleksanteri Inst, PL 42, Helsin...</td>\n",
       "    </tr>\n",
       "    <tr>\n",
       "      <th>21786</th>\n",
       "      <td>WOS:000590169500002</td>\n",
       "      <td>Balkus, Muidaugas</td>\n",
       "      <td>Sociocultural Lituanization in Gymnasiums of N...</td>\n",
       "      <td>1392-0456</td>\n",
       "      <td>ISTORIJA</td>\n",
       "      <td>2019</td>\n",
       "      <td>Vytautas Magnus Univ, Fac Humanities, Dept His...</td>\n",
       "    </tr>\n",
       "    <tr>\n",
       "      <th>21787</th>\n",
       "      <td>WOS:000591397400003</td>\n",
       "      <td>Sofronea, Octavian</td>\n",
       "      <td>THE PROMOTION OF HUMAN RIGHTS WITHIN THE OLYMP...</td>\n",
       "      <td>1582-2486</td>\n",
       "      <td>ANALELE UNIVERSITATII BUCURESTI-STIINTE POLITICE</td>\n",
       "      <td>2019</td>\n",
       "      <td>Univ Bucharest, Fac Polit Sci, Bucharest, Roma...</td>\n",
       "    </tr>\n",
       "  </tbody>\n",
       "</table>\n",
       "<p>21788 rows × 7 columns</p>\n",
       "</div>"
      ],
      "text/plain": [
       "                        id              author_name  \\\n",
       "0      WOS:000209908400008   Tamosiunaite, Aurelija   \n",
       "1      WOS:000209919200006          Zhang, Hui Andy   \n",
       "2      WOS:000210161400001           Bortnik, Boris   \n",
       "3      WOS:000210161400001        Mironova, Ludmila   \n",
       "4      WOS:000210161400001  Podshivalova, Ekaterina   \n",
       "...                    ...                      ...   \n",
       "21783  WOS:000589510700005            Jaques, Susan   \n",
       "21784  WOS:000589783500009              Mayofis, M.   \n",
       "21785  WOS:000589783500014      Janis-Isokangas, I.   \n",
       "21786  WOS:000590169500002        Balkus, Muidaugas   \n",
       "21787  WOS:000591397400003       Sofronea, Octavian   \n",
       "\n",
       "                                                   title       issn  \\\n",
       "0      Defining 'Lithuanian' Orthographic debates at ...  1387-6732   \n",
       "1      RECOGNITION THROUGH REINVENTION: THE MYTH OF C...  2013-3294   \n",
       "2      Interdisciplinary project-based learning: tech...  2156-7069   \n",
       "3      Interdisciplinary project-based learning: tech...  2156-7069   \n",
       "4      Interdisciplinary project-based learning: tech...  2156-7069   \n",
       "...                                                  ...        ...   \n",
       "21783  \"This Heavy Thing\": Catherine the Great's Coro...  2051-1817   \n",
       "21784  FATHERS-HEROES AND DISCIPLINED SONS: CULTURAL ...  2219-3111   \n",
       "21785  FROM NATIONAL TO INTERNATIONAL - KONRAD ZILLIA...  2219-3111   \n",
       "21786  Sociocultural Lituanization in Gymnasiums of N...  1392-0456   \n",
       "21787  THE PROMOTION OF HUMAN RIGHTS WITHIN THE OLYMP...  1582-2486   \n",
       "\n",
       "                                                 journal  year  \\\n",
       "0                          WRITTEN LANGUAGE AND LITERACY  2015   \n",
       "1      452 F-REVISTA DE TEORIA DE LA LITERATURA Y LIT...  2015   \n",
       "2                        RESEARCH IN LEARNING TECHNOLOGY  2015   \n",
       "3                        RESEARCH IN LEARNING TECHNOLOGY  2015   \n",
       "4                        RESEARCH IN LEARNING TECHNOLOGY  2015   \n",
       "...                                                  ...   ...   \n",
       "21783                 LUXURY-HISTORY CULTURE CONSUMPTION  2019   \n",
       "21784  VESTNIK PERMSKOGO UNIVERSITETA-ISTORIYA-PERM U...  2019   \n",
       "21785  VESTNIK PERMSKOGO UNIVERSITETA-ISTORIYA-PERM U...  2019   \n",
       "21786                                           ISTORIJA  2019   \n",
       "21787   ANALELE UNIVERSITATII BUCURESTI-STIINTE POLITICE  2019   \n",
       "\n",
       "                                                 address  \n",
       "0      Vytautas Magnus Univ, Fac Humanities, Dept Lit...  \n",
       "1             Northwestern Univ, Evanston, IL 60208 USA.  \n",
       "2            Ural State Univ Econ, Ekaterinburg, Russia.  \n",
       "3            Ural State Univ Econ, Ekaterinburg, Russia.  \n",
       "4            Ural State Univ Econ, Ekaterinburg, Russia.  \n",
       "...                                                  ...  \n",
       "21783             Stanford Univ, Stanford, CA 94305 USA.  \n",
       "21784  Natl Res Univ Higher Sch Econ, Myasnitskaya St...  \n",
       "21785  Univ Helsinki, Aleksanteri Inst, PL 42, Helsin...  \n",
       "21786  Vytautas Magnus Univ, Fac Humanities, Dept His...  \n",
       "21787  Univ Bucharest, Fac Polit Sci, Bucharest, Roma...  \n",
       "\n",
       "[21788 rows x 7 columns]"
      ]
     },
     "execution_count": 3,
     "metadata": {},
     "output_type": "execute_result"
    }
   ],
   "source": [
    "xl_file = 'ranking_dataset_new.xlsx'\n",
    "data = pd.read_excel(xl_file)\n",
    "data"
   ]
  },
  {
   "cell_type": "markdown",
   "metadata": {},
   "source": [
    "### 1. Из переменной address извлечь название организации и страну, добавив к датасету колонки org_name и country."
   ]
  },
  {
   "cell_type": "markdown",
   "metadata": {},
   "source": [
    "#### 1.1 Data investigation"
   ]
  },
  {
   "cell_type": "code",
   "execution_count": 121,
   "metadata": {},
   "outputs": [
    {
     "name": "stdout",
     "output_type": "stream",
     "text": [
      "<class 'pandas.core.frame.DataFrame'>\n",
      "RangeIndex: 21788 entries, 0 to 21787\n",
      "Data columns (total 9 columns):\n",
      " #   Column       Non-Null Count  Dtype \n",
      "---  ------       --------------  ----- \n",
      " 0   id           21788 non-null  object\n",
      " 1   author_name  21788 non-null  object\n",
      " 2   title        21788 non-null  object\n",
      " 3   issn         21302 non-null  object\n",
      " 4   journal      21788 non-null  object\n",
      " 5   year         21788 non-null  int64 \n",
      " 6   address      21788 non-null  object\n",
      " 7   org_name     21328 non-null  object\n",
      " 8   country      21328 non-null  object\n",
      "dtypes: int64(1), object(8)\n",
      "memory usage: 1.5+ MB\n"
     ]
    }
   ],
   "source": [
    "data.info()"
   ]
  },
  {
   "cell_type": "code",
   "execution_count": 5,
   "metadata": {},
   "outputs": [
    {
     "data": {
      "text/plain": [
       "array(['Vytautas Magnus Univ, Fac Humanities, Dept Lithuanian Language, K Donelaicio G 52-205, LT-44244 Kaunas, Lithuania.',\n",
       "       'Northwestern Univ, Evanston, IL 60208 USA.',\n",
       "       'Ural State Univ Econ, Ekaterinburg, Russia.',\n",
       "       'James Madison Univ, Intelligence Analysis, Harrisonburg, VA 22807 USA.',\n",
       "       'Univ Kentucky, Patterson Sch Diplomacy & Int Commerce, Lexington, KY 40506 USA.',\n",
       "       'Univ Kentucky, Dept Polit Sci, Lexington, KY 40506 USA.',\n",
       "       'Charles Univ Prague, Fac Social Sci, Inst Int Studies, Prague, Czech Republic.',\n",
       "       'Univ London, SOAS, Dept Anthropol & Sociol, London, England.',\n",
       "       'Indiana Univ, Cent Eurasian Studies & Hist, Indianapolis, IN 46204 USA.',\n",
       "       'Univ Kent, Ctr Crit Thought, Canterbury, Kent, England.',\n",
       "       'Leiden Univ, Grotius Ctr Int Legal Studies, Leiden, Netherlands.'],\n",
       "      dtype=object)"
      ]
     },
     "execution_count": 5,
     "metadata": {},
     "output_type": "execute_result"
    }
   ],
   "source": [
    "data['address'].head(15).unique()"
   ]
  },
  {
   "cell_type": "code",
   "execution_count": 6,
   "metadata": {},
   "outputs": [
    {
     "data": {
      "text/plain": [
       "count                              21788\n",
       "unique                              9752\n",
       "top       Kazan Fed Univ, Kazan, Russia.\n",
       "freq                                1272\n",
       "Name: address, dtype: object"
      ]
     },
     "execution_count": 6,
     "metadata": {},
     "output_type": "execute_result"
    }
   ],
   "source": [
    "data['address'].describe()"
   ]
  },
  {
   "cell_type": "code",
   "execution_count": 7,
   "metadata": {},
   "outputs": [
    {
     "data": {
      "text/html": [
       "<div>\n",
       "<style scoped>\n",
       "    .dataframe tbody tr th:only-of-type {\n",
       "        vertical-align: middle;\n",
       "    }\n",
       "\n",
       "    .dataframe tbody tr th {\n",
       "        vertical-align: top;\n",
       "    }\n",
       "\n",
       "    .dataframe thead th {\n",
       "        text-align: right;\n",
       "    }\n",
       "</style>\n",
       "<table border=\"1\" class=\"dataframe\">\n",
       "  <thead>\n",
       "    <tr style=\"text-align: right;\">\n",
       "      <th></th>\n",
       "      <th>org_name</th>\n",
       "      <th>country</th>\n",
       "    </tr>\n",
       "  </thead>\n",
       "  <tbody>\n",
       "    <tr>\n",
       "      <th>16399</th>\n",
       "      <td>Wayne State Univ</td>\n",
       "      <td>USA</td>\n",
       "    </tr>\n",
       "    <tr>\n",
       "      <th>13</th>\n",
       "      <td>Univ Kent</td>\n",
       "      <td>England</td>\n",
       "    </tr>\n",
       "    <tr>\n",
       "      <th>15369</th>\n",
       "      <td>Lomonosov Moscow State Univ</td>\n",
       "      <td>Russia</td>\n",
       "    </tr>\n",
       "    <tr>\n",
       "      <th>192</th>\n",
       "      <td>Uppsala Univ</td>\n",
       "      <td>Sweden</td>\n",
       "    </tr>\n",
       "    <tr>\n",
       "      <th>8510</th>\n",
       "      <td>Georgetown Univ</td>\n",
       "      <td>USA</td>\n",
       "    </tr>\n",
       "  </tbody>\n",
       "</table>\n",
       "</div>"
      ],
      "text/plain": [
       "                          org_name  country\n",
       "16399             Wayne State Univ      USA\n",
       "13                       Univ Kent  England\n",
       "15369  Lomonosov Moscow State Univ   Russia\n",
       "192                   Uppsala Univ   Sweden\n",
       "8510               Georgetown Univ      USA"
      ]
     },
     "execution_count": 7,
     "metadata": {},
     "output_type": "execute_result"
    }
   ],
   "source": [
    "# regex for university and country\n",
    "org_regex = r\"(.*?),\"\n",
    "country_regex = r\"(\\w*)\\.$\"\n",
    "\n",
    "data['org_name'] = data['address'].str.extract(org_regex)\n",
    "data['country'] = data['address'].str.extract(country_regex)\n",
    "data[['org_name', 'country']].sample(5)"
   ]
  },
  {
   "cell_type": "code",
   "execution_count": 8,
   "metadata": {},
   "outputs": [
    {
     "data": {
      "text/plain": [
       "id                                           WOS:000380998000006\n",
       "author_name                                  Keukeleire, Stephan\n",
       "title          Voting Cohesion of the BRICS Countries in the ...\n",
       "issn                                                   1075-2846\n",
       "journal                                        GLOBAL GOVERNANCE\n",
       "year                                                        2016\n",
       "address                                   Could not be extracted\n",
       "org_name                                                     NaN\n",
       "country                                                      NaN\n",
       "Name: 2398, dtype: object"
      ]
     },
     "execution_count": 8,
     "metadata": {},
     "output_type": "execute_result"
    }
   ],
   "source": [
    "data.iloc[2398]"
   ]
  },
  {
   "cell_type": "markdown",
   "metadata": {},
   "source": [
    "•\tколичество публикаций в названии которых встречается Russia или Russian"
   ]
  },
  {
   "cell_type": "code",
   "execution_count": 70,
   "metadata": {},
   "outputs": [
    {
     "data": {
      "text/plain": [
       "count                                                 21788\n",
       "unique                                                11204\n",
       "top       A hundred introductions to semiotics, for a mi...\n",
       "freq                                                     19\n",
       "Name: title, dtype: object"
      ]
     },
     "execution_count": 70,
     "metadata": {},
     "output_type": "execute_result"
    }
   ],
   "source": [
    "data['title'].describe()"
   ]
  },
  {
   "cell_type": "code",
   "execution_count": 83,
   "metadata": {},
   "outputs": [
    {
     "data": {
      "text/plain": [
       "\"Turning the Pushkin Museum into a 'Russian Tate': Informal creative\\n\\nlabour in a transitional cultural economy (the case of privately funded\\n\\nMoscow art centres)\""
      ]
     },
     "execution_count": 83,
     "metadata": {},
     "output_type": "execute_result"
    }
   ],
   "source": [
    "rus_regex = r\"[Rr]ussia[n ]\"\n",
    "\n",
    "russian = data['title'].str.contains(rus_regex)\n",
    "russian = data.loc[russian]\n",
    "\n",
    "russian['title'].sample(1).iloc[0]"
   ]
  },
  {
   "cell_type": "code",
   "execution_count": 172,
   "metadata": {},
   "outputs": [
    {
     "data": {
      "text/plain": [
       "count                                                  4865\n",
       "unique                                                 2550\n",
       "top       The Factorial Structure of Spatial Abilities i...\n",
       "freq                                                     13\n",
       "Name: title, dtype: object"
      ]
     },
     "execution_count": 172,
     "metadata": {},
     "output_type": "execute_result"
    }
   ],
   "source": [
    "russian['title'].describe()"
   ]
  },
  {
   "cell_type": "markdown",
   "metadata": {},
   "source": [
    "### 2. список ТОП-20 организаций по количеству авторов с указанием их количества"
   ]
  },
  {
   "cell_type": "code",
   "execution_count": 102,
   "metadata": {},
   "outputs": [
    {
     "data": {
      "text/plain": [
       "org_name\n",
       "Kazan Fed Univ                         2083\n",
       "Natl Res Univ                           566\n",
       "Natl Res Univ Higher Sch Econ           495\n",
       "St Petersburg State Univ                484\n",
       "Belgorod State Univ                     246\n",
       "Lomonosov Moscow State Univ             238\n",
       "Kazan Volga Reg Fed Univ                198\n",
       "Stavropol State Agr Univ                180\n",
       "Russian State Social Univ               164\n",
       "Plekhanov Russian Univ Econ             159\n",
       "Financial Univ Govt Russian Federat     144\n",
       "Ural Fed Univ                           140\n",
       "Peoples Friendship Univ Russia          126\n",
       "North Eastern Fed Univ                  122\n",
       "RUDN Univ                               121\n",
       "Southern Fed Univ                       105\n",
       "Univ Tartu                              103\n",
       "Stavropol State Agrarian Univ            99\n",
       "Moscow MV Lomonosov State Univ           86\n",
       "Univ Helsinki                            86\n",
       "Name: author_name, dtype: int64"
      ]
     },
     "execution_count": 102,
     "metadata": {},
     "output_type": "execute_result"
    }
   ],
   "source": [
    "org_authors = data.groupby('org_name')['author_name'].nunique()\n",
    "top_org_authors = org_authors.sort_values(ascending=False).head(20)\n",
    "top_org_authors"
   ]
  },
  {
   "cell_type": "code",
   "execution_count": 108,
   "metadata": {},
   "outputs": [
    {
     "data": {
      "text/plain": [
       "1572                     Salnikova, Alla\n",
       "1911                 Bayanova, Larisa F.\n",
       "1912                  Mustafin, Timur R.\n",
       "2119                       Zolobov, Oleg\n",
       "2418                Ankudinov, Andrei B.\n",
       "                      ...               \n",
       "21660                        Xu Jingting\n",
       "21661     Chumakova, Galina Valentinovna\n",
       "21662    Starostina, Olga Vyacheslavovna\n",
       "21663       Alikberova, Alfiya Rafisovna\n",
       "21664         Karamova, Yuliya Yurisovna\n",
       "Name: author_name, Length: 3033, dtype: object"
      ]
     },
     "execution_count": 108,
     "metadata": {},
     "output_type": "execute_result"
    }
   ],
   "source": [
    "data[data['org_name'] == 'Kazan Fed Univ']['author_name']"
   ]
  },
  {
   "cell_type": "markdown",
   "metadata": {},
   "source": [
    "### 3. список ТОП-20 авторов по количеству публикаций с указанием их количества"
   ]
  },
  {
   "cell_type": "code",
   "execution_count": 103,
   "metadata": {},
   "outputs": [
    {
     "data": {
      "text/plain": [
       "author_name\n",
       "Zamaletdinov, Radif R.            24\n",
       "Kovalenko, Kseniya                23\n",
       "Kovalenko, Kseniya E.             21\n",
       "Zhatkin, Dmitry N.                21\n",
       "Souleimanov, Emil Aslan           16\n",
       "Gubareva, Anna                    16\n",
       "Zaitseva, Natalia A.              16\n",
       "Safiullin, Marat R.               14\n",
       "Fedorov, Alexander                14\n",
       "Larionova, Anna A.                14\n",
       "Laruelle, Marlene                 13\n",
       "Trukhachev, Vladimir Ivanovich    12\n",
       "Bogoviz, Aleksei V.               12\n",
       "Zamaletdinova, Gulnara F.         12\n",
       "Rubtcova, Mariia                  12\n",
       "Rokotyanskaya, Violetta V.        11\n",
       "Makarychev, Andrey                11\n",
       "Yashina, Tatiana A.               10\n",
       "Elshin, Leonid A.                 10\n",
       "Levitskaya, Anastasia             10\n",
       "Name: title, dtype: int64"
      ]
     },
     "execution_count": 103,
     "metadata": {},
     "output_type": "execute_result"
    }
   ],
   "source": [
    "title_authors = data.groupby('author_name')['title'].nunique()\n",
    "top_author = title_authors.sort_values(ascending=False).head(20)\n",
    "top_author_titles"
   ]
  },
  {
   "cell_type": "code",
   "execution_count": 119,
   "metadata": {},
   "outputs": [
    {
     "data": {
      "text/plain": [
       "'Realization of the Concepts Eget and Man in the Paramies of the Tatar\\n\\nand English Languages'"
      ]
     },
     "execution_count": 119,
     "metadata": {},
     "output_type": "execute_result"
    }
   ],
   "source": [
    "data[data['author_name'] == 'Zamaletdinov, Radif R.']['title'].sample(1).iloc[0]"
   ]
  },
  {
   "cell_type": "markdown",
   "metadata": {},
   "source": [
    "Соавторы случайной статьи Zamaletdinov, Radif R."
   ]
  },
  {
   "cell_type": "code",
   "execution_count": 168,
   "metadata": {},
   "outputs": [
    {
     "data": {
      "text/plain": [
       "14037    Gabdrakhmanova, Fanuza H.\n",
       "14038         Jetibai, Janbolat M.\n",
       "14039       Zamaletdinov, Radif R.\n",
       "14040    Zamaletdinova, Gulnara F.\n",
       "Name: author_name, dtype: object"
      ]
     },
     "execution_count": 168,
     "metadata": {},
     "output_type": "execute_result"
    }
   ],
   "source": [
    "data[data['title'] == data[data['author_name'] == 'Zamaletdinov, Radif R.']['title'].sample(1).iloc[0]]['author_name']"
   ]
  },
  {
   "cell_type": "markdown",
   "metadata": {},
   "source": [
    "### 4. список ТОП-20 организаций по количеству публикаций с указанием их количества"
   ]
  },
  {
   "cell_type": "code",
   "execution_count": 120,
   "metadata": {},
   "outputs": [
    {
     "data": {
      "text/plain": [
       "org_name\n",
       "Kazan Fed Univ                         1234\n",
       "Natl Res Univ                           495\n",
       "Natl Res Univ Higher Sch Econ           377\n",
       "St Petersburg State Univ                376\n",
       "Lomonosov Moscow State Univ             175\n",
       "Plekhanov Russian Univ Econ             124\n",
       "Ural Fed Univ                           111\n",
       "Kazan Volga Reg Fed Univ                104\n",
       "Russian State Social Univ               103\n",
       "Univ Tartu                              102\n",
       "Altai State Univ                         96\n",
       "Financial Univ Govt Russian Federat      92\n",
       "Univ Helsinki                            92\n",
       "Univ Oxford                              90\n",
       "North Eastern Fed Univ                   80\n",
       "Peoples Friendship Univ Russia           78\n",
       "Moscow MV Lomonosov State Univ           76\n",
       "Univ Cambridge                           76\n",
       "Belgorod State Univ                      76\n",
       "Kings Coll London                        68\n",
       "Name: title, dtype: int64"
      ]
     },
     "execution_count": 120,
     "metadata": {},
     "output_type": "execute_result"
    }
   ],
   "source": [
    "org_titles = data.groupby('org_name')['title'].nunique()\n",
    "top_org_titles = org_titles.sort_values(ascending=False).head(20)\n",
    "top_org_titles"
   ]
  },
  {
   "cell_type": "markdown",
   "metadata": {},
   "source": [
    "### 5. список ТОП-20 журналов  по количеству публикаций с указанием их количества"
   ]
  },
  {
   "cell_type": "code",
   "execution_count": 154,
   "metadata": {},
   "outputs": [
    {
     "data": {
      "text/plain": [
       "journal\n",
       "MODERN JOURNAL OF LANGUAGE TEACHING METHODS                                                   374\n",
       "RESEARCH JOURNAL OF PHARMACEUTICAL BIOLOGICAL AND CHEMICAL SCIENCES                           286\n",
       "AMAZONIA INVESTIGA                                                                            250\n",
       "TARIH KULTUR VE SANAT ARASTIRMALARI DERGISI-JOURNAL OF HISTORY CULTURE\\n\\nAND ART RESEARCH    234\n",
       "AD ALTA-JOURNAL OF INTERDISCIPLINARY RESEARCH                                                 187\n",
       "TURKISH ONLINE JOURNAL OF DESIGN ART AND COMMUNICATION                                        176\n",
       "EUROPE-ASIA STUDIES                                                                           157\n",
       "DILEMAS CONTEMPORANEOS-EDUCACION POLITICA Y VALORES                                           146\n",
       "PSYCHOLOGY IN RUSSIA-STATE OF THE ART                                                         113\n",
       "REVISTA SAN GREGORIO                                                                          102\n",
       "RUSSIAN REVIEW                                                                                 95\n",
       "SLAVIC REVIEW                                                                                  94\n",
       "REVISTA GENERO & DIREITO                                                                       90\n",
       "REVISTA PUBLICANDO                                                                             89\n",
       "QUID-INVESTIGACION CIENCIA Y TECNOLOGIA                                                        88\n",
       "JOURNAL OF RESEARCH IN APPLIED LINGUISTICS                                                     87\n",
       "EUROPEAN JOURNAL OF CONTEMPORARY EDUCATION                                                     87\n",
       "SLAVIC AND EAST EUROPEAN JOURNAL                                                               79\n",
       "BALTIC REGION                                                                                  75\n",
       "KRITIKA-EXPLORATIONS IN RUSSIAN AND EURASIAN HISTORY                                           68\n",
       "Name: title, dtype: int64"
      ]
     },
     "execution_count": 154,
     "metadata": {},
     "output_type": "execute_result"
    }
   ],
   "source": [
    "journal_titles = data.groupby('journal')['title'].nunique()\n",
    "top_journal_titles = journal_titles.sort_values(ascending=False).head(20)\n",
    "top_journal_titles"
   ]
  },
  {
   "cell_type": "markdown",
   "metadata": {},
   "source": [
    "### 6. Save results"
   ]
  },
  {
   "cell_type": "code",
   "execution_count": null,
   "metadata": {},
   "outputs": [],
   "source": [
    "document = Document()\n",
    "\n",
    "table_1 = document.add_table()"
   ]
  }
 ],
 "metadata": {
  "kernelspec": {
   "display_name": "bs4",
   "language": "python",
   "name": "python3"
  },
  "language_info": {
   "codemirror_mode": {
    "name": "ipython",
    "version": 3
   },
   "file_extension": ".py",
   "mimetype": "text/x-python",
   "name": "python",
   "nbconvert_exporter": "python",
   "pygments_lexer": "ipython3",
   "version": "3.10.9"
  }
 },
 "nbformat": 4,
 "nbformat_minor": 2
}
